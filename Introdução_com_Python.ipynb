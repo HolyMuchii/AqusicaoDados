{
  "nbformat": 4,
  "nbformat_minor": 0,
  "metadata": {
    "colab": {
      "name": "Disciplina - Fundamento e Tratamento de Dados",
      "provenance": [],
      "authorship_tag": "ABX9TyNvUZfmfBjS18CCHl/F20P8",
      "include_colab_link": true
    },
    "kernelspec": {
      "name": "python3",
      "display_name": "Python 3"
    },
    "language_info": {
      "name": "python"
    }
  },
  "cells": [
    {
      "cell_type": "markdown",
      "metadata": {
        "id": "view-in-github",
        "colab_type": "text"
      },
      "source": [
        "<a href=\"https://colab.research.google.com/github/HolyMuchii/AqusicaoDados/blob/main/Introdu%C3%A7%C3%A3o_com_Python.ipynb\" target=\"_parent\"><img src=\"https://colab.research.google.com/assets/colab-badge.svg\" alt=\"Open In Colab\"/></a>"
      ]
    },
    {
      "cell_type": "markdown",
      "metadata": {
        "id": "gU5yFXCkK251"
      },
      "source": [
        "Converter Codigos do Matlab para Python"
      ]
    },
    {
      "cell_type": "markdown",
      "metadata": {
        "id": "rekIC5kmOEjf"
      },
      "source": [
        "# Introdução aos Códigos do Matlab - Conversão"
      ]
    },
    {
      "cell_type": "markdown",
      "metadata": {
        "id": "NO1dKa1AOqtg"
      },
      "source": [
        "####Código no Matlab  -  Criar Vetor/Matriz de zeros\n",
        "\n",
        "* v = zeros(1000);\n",
        "\n",
        "---------------------------\n",
        "\n",
        "Python:"
      ]
    },
    {
      "cell_type": "code",
      "metadata": {
        "id": "eKhx-YU-KrvQ"
      },
      "source": [
        "import numpy as np"
      ],
      "execution_count": 1,
      "outputs": []
    },
    {
      "cell_type": "code",
      "metadata": {
        "id": "cLMn00n8PIpd"
      },
      "source": [
        "v = np.zeros(1000)\n",
        "#v"
      ],
      "execution_count": 4,
      "outputs": []
    },
    {
      "cell_type": "markdown",
      "metadata": {
        "id": "nTTPi3d3PUYb"
      },
      "source": [
        "####Código no Matlab  -  Sistema While\n",
        "\n",
        "* v = zeros(500);\n",
        "* a = 1;\n",
        "* b = 0;\n",
        "* while a<500\n",
        "* v(a) = 10*a+5;\n",
        "* a = a+1;\n",
        "* % disp(a);\n",
        "* end;\n",
        "\n",
        "-----------------------------------------\n",
        "\n",
        "Python:"
      ]
    },
    {
      "cell_type": "code",
      "metadata": {
        "id": "sla-AM1JUYr0"
      },
      "source": [
        "# import numpy as np\n",
        "v2=np.zeros(500) # É necessário criar um vetor primeiro"
      ],
      "execution_count": 61,
      "outputs": []
    },
    {
      "cell_type": "code",
      "metadata": {
        "id": "EybSTHwPPrDy"
      },
      "source": [
        "a=1\n",
        "b=0\n",
        "while a<500:\n",
        "  v2[a]=10*a+1\n",
        "  a=a+1\n",
        "  #print(a)"
      ],
      "execution_count": 62,
      "outputs": []
    },
    {
      "cell_type": "code",
      "metadata": {
        "colab": {
          "base_uri": "https://localhost:8080/"
        },
        "id": "_oUVcxiTRy4I",
        "outputId": "1609c704-f973-4fc6-f277-78be824a076f"
      },
      "source": [
        "v[479:499] # Indicar o número no ponto 480 até o 500 ( - A contagem começa no 0 - )"
      ],
      "execution_count": 63,
      "outputs": [
        {
          "output_type": "execute_result",
          "data": {
            "text/plain": [
              "array([4791., 4801., 4811., 4821., 4831., 4841., 4851., 4861., 4871.,\n",
              "       4881., 4891., 4901., 4911., 4921., 4931., 4941., 4951., 4961.,\n",
              "       4971., 4981.])"
            ]
          },
          "metadata": {},
          "execution_count": 63
        }
      ]
    },
    {
      "cell_type": "markdown",
      "metadata": {
        "id": "mNA2lzapRCx5"
      },
      "source": [
        "#### Código no Matlab - Plotar Gráfico\n",
        "\n",
        "* plot(v);\n",
        "\n",
        "-----------------------------------------\n",
        "\n",
        "Python:"
      ]
    },
    {
      "cell_type": "code",
      "metadata": {
        "id": "XtzwSSSNRo6s"
      },
      "source": [
        "from matplotlib import pyplot as plt"
      ],
      "execution_count": 10,
      "outputs": []
    },
    {
      "cell_type": "code",
      "metadata": {
        "colab": {
          "base_uri": "https://localhost:8080/",
          "height": 282
        },
        "id": "WDC_1vaDRBHO",
        "outputId": "b459152a-2ded-4bba-9cfb-91bfcbf3917d"
      },
      "source": [
        "plt.plot(v)"
      ],
      "execution_count": 23,
      "outputs": [
        {
          "output_type": "execute_result",
          "data": {
            "text/plain": [
              "[<matplotlib.lines.Line2D at 0x7f0256df2890>]"
            ]
          },
          "metadata": {},
          "execution_count": 23
        },
        {
          "output_type": "display_data",
          "data": {
            "image/png": "[encoded data removed]",
            "text/plain": [
              "<Figure size 432x288 with 1 Axes>"
            ]
          },
          "metadata": {
            "needs_background": "light"
          }
        }
      ]
    },
    {
      "cell_type": "markdown",
      "metadata": {
        "id": "BOGYN1ifWDgf"
      },
      "source": [
        "#### Código no Matlab - Sitema For para modificar Vetores em passos float\n",
        "\n",
        "* v = zeros(5000);\n",
        "* cont=1;\n",
        "* for c = 1:0.1:500\n",
        "* % disp(c);\n",
        "* v(cont)=c;\n",
        "* cont = cont + 1;\n",
        "* end;\n",
        "\n",
        "-----------------------------------------\n",
        "\n",
        "Python:"
      ]
    },
    {
      "cell_type": "code",
      "metadata": {
        "colab": {
          "base_uri": "https://localhost:8080/",
          "height": 421
        },
        "id": "l84t5Z6PmrYN",
        "outputId": "d56fef96-feb5-4103-9c4c-1f4585e1acdc"
      },
      "source": [
        "# import numpy as np\n",
        "v3=np.zeros(5000)\n",
        "cont=1\n",
        "for c in range(1,5000,1): # Não interpreta numeros decimais no for (float)\n",
        "  c2=c/10\n",
        "  #print(c2)\n",
        "  v3[cont]=c2\n",
        "  cont=cont+1\n",
        "print('0 a 50 no vetor:',v3[0:50],'             4950 a 5000 no vetor:',v3[4950:5000] )\n",
        "\n",
        "# from matplotlib import pyplot as plt\n",
        "plt.plot(v3)\n",
        "  "
      ],
      "execution_count": 60,
      "outputs": [
        {
          "output_type": "stream",
          "name": "stdout",
          "text": [
            "0 a 50 no vetor: [0.  0.1 0.2 0.3 0.4 0.5 0.6 0.7 0.8 0.9 1.  1.1 1.2 1.3 1.4 1.5 1.6 1.7\n",
            " 1.8 1.9 2.  2.1 2.2 2.3 2.4 2.5 2.6 2.7 2.8 2.9 3.  3.1 3.2 3.3 3.4 3.5\n",
            " 3.6 3.7 3.8 3.9 4.  4.1 4.2 4.3 4.4 4.5 4.6 4.7 4.8 4.9]              4950 a 5000 no vetor: [495.  495.1 495.2 495.3 495.4 495.5 495.6 495.7 495.8 495.9 496.  496.1\n",
            " 496.2 496.3 496.4 496.5 496.6 496.7 496.8 496.9 497.  497.1 497.2 497.3\n",
            " 497.4 497.5 497.6 497.7 497.8 497.9 498.  498.1 498.2 498.3 498.4 498.5\n",
            " 498.6 498.7 498.8 498.9 499.  499.1 499.2 499.3 499.4 499.5 499.6 499.7\n",
            " 499.8 499.9]\n"
          ]
        },
        {
          "output_type": "execute_result",
          "data": {
            "text/plain": [
              "[<matplotlib.lines.Line2D at 0x7f0256759810>]"
            ]
          },
          "metadata": {},
          "execution_count": 60
        },
        {
          "output_type": "display_data",
          "data": {
            "image/png": "[encoded data removed]",
            "text/plain": [
              "<Figure size 432x288 with 1 Axes>"
            ]
          },
          "metadata": {
            "needs_background": "light"
          }
        }
      ]
    },
    {
      "cell_type": "markdown",
      "metadata": {
        "id": "jGbOZGxXKbf6"
      },
      "source": [
        "#### Código no Matlab - Sistema For para modificar Matrizes\n",
        "\n",
        "* v = zeros(100,10);\n",
        "* cont=1;\n",
        "* for c=1:100\n",
        "*  for d=1:10\n",
        "*   %disp(c);\n",
        "*   v(c,d)=c*d;\n",
        "*   cont=cont+1\n",
        "*  end;\n",
        "* end;\n",
        "* plot (v)\n",
        "-----------------------------------------\n",
        "\n",
        "Python:"
      ]
    },
    {
      "cell_type": "code",
      "metadata": {
        "id": "0VJh1w7FUfMz"
      },
      "source": [
        "# import numpy as np\n",
        "v4=np.zeros((100,10)) # (100,10) dentro do np.zeros()"
      ],
      "execution_count": 65,
      "outputs": []
    },
    {
      "cell_type": "code",
      "metadata": {
        "colab": {
          "base_uri": "https://localhost:8080/",
          "height": 435
        },
        "id": "7cKfulnAaO1q",
        "outputId": "d1eb059b-485c-48fc-9e42-7c5baaefee2b"
      },
      "source": [
        "cont=1\n",
        "for c in range(1,100):\n",
        "  for d in range(1,10):\n",
        "    #print(c)\n",
        "    v4[c,d]=c*d\n",
        "    cont=cont+1\n",
        "\n",
        "# from matplotlib import pyplot as plt\n",
        "plt.plot(v4)"
      ],
      "execution_count": 67,
      "outputs": [
        {
          "output_type": "execute_result",
          "data": {
            "text/plain": [
              "[<matplotlib.lines.Line2D at 0x7f0256723e50>,\n",
              " <matplotlib.lines.Line2D at 0x7f0256723d10>,\n",
              " <matplotlib.lines.Line2D at 0x7f0256723fd0>,\n",
              " <matplotlib.lines.Line2D at 0x7f02567238d0>,\n",
              " <matplotlib.lines.Line2D at 0x7f02567230d0>,\n",
              " <matplotlib.lines.Line2D at 0x7f0256723910>,\n",
              " <matplotlib.lines.Line2D at 0x7f0256723a10>,\n",
              " <matplotlib.lines.Line2D at 0x7f0256723550>,\n",
              " <matplotlib.lines.Line2D at 0x7f0256723210>,\n",
              " <matplotlib.lines.Line2D at 0x7f0256723590>]"
            ]
          },
          "metadata": {},
          "execution_count": 67
        },
        {
          "output_type": "display_data",
          "data": {
            "image/png": "[encoded data removed]",
            "text/plain": [
              "<Figure size 432x288 with 1 Axes>"
            ]
          },
          "metadata": {
            "needs_background": "light"
          }
        }
      ]
    },
    {
      "cell_type": "markdown",
      "metadata": {
        "id": "NxZT0yAugEAW"
      },
      "source": [
        "#### Código no Matlab - Comando para interação externa com o código (input)\n",
        "\n",
        "* r=input('s');\n",
        "\n",
        "-----------------------------------------\n",
        "\n",
        "Python:"
      ]
    },
    {
      "cell_type": "code",
      "metadata": {
        "colab": {
          "base_uri": "https://localhost:8080/"
        },
        "id": "ZzZVSRrlfaKl",
        "outputId": "056c0c63-2c92-48dd-ca9d-5618d35932a5"
      },
      "source": [
        "cont=1\n",
        "print(cont)\n",
        "r=input('Deseja Continuar? ')\n",
        "cont=2\n",
        "print(cont)"
      ],
      "execution_count": 71,
      "outputs": [
        {
          "output_type": "stream",
          "name": "stdout",
          "text": [
            "1\n",
            "Deseja Continuar? s\n",
            "2\n"
          ]
        }
      ]
    },
    {
      "cell_type": "markdown",
      "metadata": {
        "id": "XlkFuOXAxnje"
      },
      "source": [
        "#### Código no Matlab - Sistema interativo (while + input)\n",
        "\n",
        "* n1=1000;\n",
        "* while n~=0\n",
        "*  n=input('Digite o valor', 's');\n",
        "*  n1=str2num(n);\n",
        "*   if n1<10\n",
        "*    disp('Valor menor que 10');\n",
        "*   else\n",
        "*    disp('Valor maior ou igual a 10');\n",
        "*   end;\n",
        "*  end;\n",
        "-----------------------------------------\n",
        "\n",
        "Python:"
      ]
    },
    {
      "cell_type": "code",
      "metadata": {
        "colab": {
          "base_uri": "https://localhost:8080/"
        },
        "id": "khk9n-GikSBg",
        "outputId": "4d17bf5c-ad92-4494-ebfd-f5bca6c258c5"
      },
      "source": [
        "n=1000\n",
        "while (n!=str(0)):\n",
        "  n=input('Digite o valor: ')\n",
        "  n1=int(n)\n",
        "  if (n1<10):\n",
        "    print('Valor menor que 10')\n",
        "  else:\n",
        "    print('Valor maior ou igual a 10')\n",
        "\n"
      ],
      "execution_count": 99,
      "outputs": [
        {
          "output_type": "stream",
          "name": "stdout",
          "text": [
            "Digite o valor: 50\n",
            "Valor maior ou igual a 10\n",
            "Digite o valor: 1\n",
            "Valor menor que 10\n",
            "Digite o valor: 0\n",
            "Valor menor que 10\n"
          ]
        }
      ]
    }
  ]
}